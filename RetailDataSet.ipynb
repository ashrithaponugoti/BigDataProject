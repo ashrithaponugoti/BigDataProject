{
 "cells": [
  {
   "cell_type": "markdown",
   "id": "6ec605a6-6478-4627-befc-6b5a5aec3933",
   "metadata": {
    "tags": []
   },
   "source": [
    "# Import necessary modules and create a spark session"
   ]
  },
  {
   "cell_type": "code",
   "execution_count": 1,
   "id": "70896d9d-54b4-4bb9-938d-8440366a0e60",
   "metadata": {
    "tags": []
   },
   "outputs": [],
   "source": [
    "from pyspark.sql import SparkSession\n",
    "from pyspark.sql.functions import col,sum,count,to_timestamp\n",
    "from pyspark.sql import functions as F\n",
    "import numpy as np\n",
    "import pandas as pd\n",
    "import matplotlib.pyplot as plt\n",
    "import seaborn as sns\n",
    "import datetime as dt\n",
    "from sklearn.preprocessing import MinMaxScaler\n",
    "from sklearn.cluster import KMeans\n",
    "from sklearn.metrics import silhouette_score\n",
    "spark = SparkSession.builder.getOrCreate()"
   ]
  },
  {
   "cell_type": "markdown",
   "id": "d15625d5-c386-448f-b654-5dfca9ccec0a",
   "metadata": {
    "tags": []
   },
   "source": [
    "# Reading the Dataset from csv"
   ]
  },
  {
   "cell_type": "code",
   "execution_count": 2,
   "id": "a96f664b-c15d-40e7-b2fa-5bb95c5d2678",
   "metadata": {
    "tags": []
   },
   "outputs": [
    {
     "name": "stdout",
     "output_type": "stream",
     "text": [
      "+---------+---------+--------------------+--------+----------------+---------+----------+--------------+\n",
      "|InvoiceNo|StockCode|         Description|Quantity|     InvoiceDate|UnitPrice|CustomerID|       Country|\n",
      "+---------+---------+--------------------+--------+----------------+---------+----------+--------------+\n",
      "|   536365|   85123A|WHITE HANGING HEA...|       6|01-12-2010 08:26|     2.55|     17850|United Kingdom|\n",
      "|   536365|    71053| WHITE METAL LANTERN|       6|01-12-2010 08:26|     3.39|     17850|United Kingdom|\n",
      "|   536365|   84406B|CREAM CUPID HEART...|       8|01-12-2010 08:26|     2.75|     17850|United Kingdom|\n",
      "|   536365|   84029G|KNITTED UNION FLA...|       6|01-12-2010 08:26|     3.39|     17850|United Kingdom|\n",
      "|   536365|   84029E|RED WOOLLY HOTTIE...|       6|01-12-2010 08:26|     3.39|     17850|United Kingdom|\n",
      "+---------+---------+--------------------+--------+----------------+---------+----------+--------------+\n",
      "only showing top 5 rows\n",
      "\n",
      "root\n",
      " |-- InvoiceNo: string (nullable = true)\n",
      " |-- StockCode: string (nullable = true)\n",
      " |-- Description: string (nullable = true)\n",
      " |-- Quantity: integer (nullable = true)\n",
      " |-- InvoiceDate: string (nullable = true)\n",
      " |-- UnitPrice: double (nullable = true)\n",
      " |-- CustomerID: integer (nullable = true)\n",
      " |-- Country: string (nullable = true)\n",
      "\n"
     ]
    }
   ],
   "source": [
    "file_path = 'OnlineRetail.csv'\n",
    "df = spark.read.csv(file_path, header=True, inferSchema=True)\n",
    "df.show(5)\n",
    "df.printSchema()"
   ]
  },
  {
   "cell_type": "markdown",
   "id": "afda1a53-e771-481e-96ee-358f0e68c5cc",
   "metadata": {
    "tags": []
   },
   "source": [
    "\n",
    "# Data Cleaning\n"
   ]
  },
  {
   "cell_type": "markdown",
   "id": "b816eeb1-f246-4cff-8588-2e564880f9e5",
   "metadata": {
    "tags": []
   },
   "source": [
    "### number of rows and columns"
   ]
  },
  {
   "cell_type": "code",
   "execution_count": 3,
   "id": "8b214785-d9f5-4826-9d5f-f9e1bbe9e460",
   "metadata": {
    "tags": []
   },
   "outputs": [
    {
     "name": "stdout",
     "output_type": "stream",
     "text": [
      "Shape: (541909, 8)\n"
     ]
    }
   ],
   "source": [
    "num_rows = df.count()\n",
    "num_cols = len(df.columns)\n",
    "print(f\"Shape: ({num_rows}, {num_cols})\")"
   ]
  },
  {
   "cell_type": "markdown",
   "id": "149acc04-93ce-430b-a5f1-a1f2ed6ffbd9",
   "metadata": {},
   "source": [
    "### Check for null values in each column and sum them"
   ]
  },
  {
   "cell_type": "code",
   "execution_count": 4,
   "id": "a7da33d2-c7e0-46fc-9ed1-90375868db5c",
   "metadata": {
    "tags": []
   },
   "outputs": [
    {
     "name": "stdout",
     "output_type": "stream",
     "text": [
      "Null counts per column:\n",
      "InvoiceNo: 0\n",
      "StockCode: 0\n",
      "Description: 1454\n",
      "Quantity: 0\n",
      "InvoiceDate: 0\n",
      "UnitPrice: 0\n",
      "CustomerID: 135080\n",
      "Country: 0\n"
     ]
    }
   ],
   "source": [
    "null_counts = {c: df.where(col(c).isNull()).count() for c in df.columns}\n",
    "print(\"Null counts per column:\")\n",
    "for col, count in null_counts.items():\n",
    "    print(f\"{col}: {count}\")"
   ]
  },
  {
   "cell_type": "markdown",
   "id": "8493239f-2312-43a9-bfb5-052e7bbc00a7",
   "metadata": {},
   "source": [
    "### Dropping rows with any null values and negative values"
   ]
  },
  {
   "cell_type": "code",
   "execution_count": 5,
   "id": "fe9db062-c202-4226-9aba-8908872bdd99",
   "metadata": {
    "tags": []
   },
   "outputs": [],
   "source": [
    "df = df.na.drop()\n",
    "df = df.filter((df['Quantity'] >= 0) & (df['UnitPrice'] >= 0))"
   ]
  },
  {
   "cell_type": "markdown",
   "id": "6281c381-5833-43f1-b2b4-4b942451cf4a",
   "metadata": {},
   "source": [
    "### Show the updated DataFrame schema and shape after dropping null values"
   ]
  },
  {
   "cell_type": "code",
   "execution_count": 6,
   "id": "4086e990-a268-43d0-872b-3ac25afe45a3",
   "metadata": {
    "tags": []
   },
   "outputs": [
    {
     "name": "stdout",
     "output_type": "stream",
     "text": [
      "root\n",
      " |-- InvoiceNo: string (nullable = true)\n",
      " |-- StockCode: string (nullable = true)\n",
      " |-- Description: string (nullable = true)\n",
      " |-- Quantity: integer (nullable = true)\n",
      " |-- InvoiceDate: string (nullable = true)\n",
      " |-- UnitPrice: double (nullable = true)\n",
      " |-- CustomerID: integer (nullable = true)\n",
      " |-- Country: string (nullable = true)\n",
      "\n",
      "Shape after dropping null values: (397924, 8)\n"
     ]
    }
   ],
   "source": [
    "df.printSchema()\n",
    "num_rows_no_null = df.count()\n",
    "num_cols_no_null = len(df.columns)\n",
    "print(f\"Shape after dropping null values: ({num_rows_no_null}, {num_cols_no_null})\")"
   ]
  },
  {
   "cell_type": "markdown",
   "id": "fc863f0b-6f9a-4699-98ca-2af45dc80d53",
   "metadata": {},
   "source": [
    "# Data preprocessing "
   ]
  },
  {
   "cell_type": "markdown",
   "id": "c66ba7af-4dee-43e2-ba1e-e04c91e17615",
   "metadata": {
    "tags": []
   },
   "source": [
    "### Total amount of purchase done by each individual customer"
   ]
  },
  {
   "cell_type": "code",
   "execution_count": 7,
   "id": "8ed31649-4742-4c59-aba1-f0d06e37c0a8",
   "metadata": {
    "tags": []
   },
   "outputs": [
    {
     "name": "stdout",
     "output_type": "stream",
     "text": [
      "+----------+------------------+\n",
      "|CustomerID|            Amount|\n",
      "+----------+------------------+\n",
      "|     12346|           77183.6|\n",
      "|     12347|            4310.0|\n",
      "|     12348|           1797.24|\n",
      "|     12349|           1757.55|\n",
      "|     12350|334.40000000000003|\n",
      "|     12352|2506.0400000000004|\n",
      "|     12353|              89.0|\n",
      "|     12354|            1079.4|\n",
      "|     12355|             459.4|\n",
      "|     12356|2811.4300000000003|\n",
      "+----------+------------------+\n",
      "only showing top 10 rows\n",
      "\n"
     ]
    }
   ],
   "source": [
    "from pyspark.sql.types import StringType\n",
    "df = df.withColumn('CustomerID', df['CustomerID'].cast(StringType()))\n",
    "df = df.withColumn('Amount', df['Quantity'] * df['UnitPrice'])\n",
    "rfm_ds_m = df.groupBy('CustomerID').agg(sum('Amount').alias('Amount'))\n",
    "rfm_ds_m = rfm_ds_m.orderBy('CustomerID')\n",
    "rfm_ds_m.show(10)"
   ]
  },
  {
   "cell_type": "markdown",
   "id": "6e16c3ea-34ff-418b-8479-28ecf04af3a4",
   "metadata": {},
   "source": [
    "### Calculate Frequency (number of transactions) per CustomerID"
   ]
  },
  {
   "cell_type": "code",
   "execution_count": 8,
   "id": "11500d77-26bc-47e4-a345-1e15d7e0a5e0",
   "metadata": {
    "tags": []
   },
   "outputs": [
    {
     "name": "stdout",
     "output_type": "stream",
     "text": [
      "+----------+---------+\n",
      "|CustomerID|Frequency|\n",
      "+----------+---------+\n",
      "|     12346|        1|\n",
      "|     12347|      182|\n",
      "|     12348|       31|\n",
      "|     12349|       73|\n",
      "|     12350|       17|\n",
      "|     12352|       85|\n",
      "|     12353|        4|\n",
      "|     12354|       58|\n",
      "|     12355|       13|\n",
      "|     12356|       59|\n",
      "+----------+---------+\n",
      "only showing top 10 rows\n",
      "\n"
     ]
    }
   ],
   "source": [
    "df = df.withColumn('InvoiceNo', df['InvoiceNo'].cast('int'))\n",
    "rfm_ds_f = df.groupBy('CustomerID').agg(F.count('InvoiceNo').alias('Frequency')).orderBy('CustomerID')\n",
    "rfm_ds_f.show(10)"
   ]
  },
  {
   "cell_type": "markdown",
   "id": "200260e7-6717-4040-93a9-c8f587255fbf",
   "metadata": {},
   "source": [
    "## Finding the Recency of the customer"
   ]
  },
  {
   "cell_type": "code",
   "execution_count": 9,
   "id": "f457a423-2d99-4d34-8de6-8138492f0707",
   "metadata": {},
   "outputs": [
    {
     "name": "stdout",
     "output_type": "stream",
     "text": [
      "+----------+----+\n",
      "|CustomerID|Diff|\n",
      "+----------+----+\n",
      "|     12346| 325|\n",
      "|     12347|   2|\n",
      "|     12348|  75|\n",
      "|     12349|  18|\n",
      "|     12350| 310|\n",
      "|     12352|  36|\n",
      "|     12353| 204|\n",
      "|     12354| 232|\n",
      "|     12355| 214|\n",
      "|     12356|  22|\n",
      "|     12357|  33|\n",
      "|     12358|   1|\n",
      "|     12359|  57|\n",
      "|     12360|  52|\n",
      "|     12361| 287|\n",
      "|     12362|   3|\n",
      "|     12363| 109|\n",
      "|     12364|   7|\n",
      "|     12365| 291|\n",
      "|     12367|   4|\n",
      "+----------+----+\n",
      "only showing top 20 rows\n",
      "\n"
     ]
    }
   ],
   "source": [
    "from pyspark.sql.functions import col, to_timestamp, max as spark_max, datediff, lit,unix_timestamp,expr\n",
    "\n",
    "ds = df.withColumn(\"InvoiceDate\", to_timestamp(df[\"InvoiceDate\"], \"dd-MM-yyyy HH:mm\"))\n",
    "\n",
    "df = df.withColumn(\"InvoiceDate\", to_timestamp(df[\"InvoiceDate\"], \"dd-MM-yyyy HH:mm\"))\n",
    "\n",
    "# Find the maximum date\n",
    "max_date = df.agg({\"InvoiceDate\": \"max\"}).collect()[0][0]\n",
    "\n",
    "# Calculate the difference and group by CustomerID\n",
    "rfm_ds_p = df.withColumn(\"Diff\", expr(f\"datediff('{max_date}', InvoiceDate)\")) \\\n",
    "    .groupBy(\"CustomerID\").agg({\"Diff\": \"min\"}) \\\n",
    "    .withColumnRenamed(\"min(Diff)\", \"Diff\").orderBy(\"CustomerID\") \n",
    "\n",
    "# Convert 'Diff' column to IntegerType\n",
    "rfm_ds_p = rfm_ds_p.withColumn(\"Diff\", col(\"Diff\").cast('int'))\n",
    "\n",
    "rfm_ds_p.show()"
   ]
  },
  {
   "cell_type": "markdown",
   "id": "8b747047-3401-4ff1-a6ca-aec7e331512a",
   "metadata": {
    "tags": []
   },
   "source": [
    "## Grouping the metrics"
   ]
  },
  {
   "cell_type": "code",
   "execution_count": 10,
   "id": "44e610b2-ab41-4810-a212-e91c09f5908b",
   "metadata": {
    "tags": []
   },
   "outputs": [
    {
     "name": "stdout",
     "output_type": "stream",
     "text": [
      "+----------+------------------+---------+-------+\n",
      "|CustomerID|            Amount|Frequency|Recency|\n",
      "+----------+------------------+---------+-------+\n",
      "|     12346|           77183.6|        1|    325|\n",
      "|     12347|            4310.0|      182|      2|\n",
      "|     12348|           1797.24|       31|     75|\n",
      "|     12349|           1757.55|       73|     18|\n",
      "|     12350|334.40000000000003|       17|    310|\n",
      "|     12352|2506.0400000000004|       85|     36|\n",
      "|     12353|              89.0|        4|    204|\n",
      "|     12354|            1079.4|       58|    232|\n",
      "|     12355|             459.4|       13|    214|\n",
      "|     12356|2811.4300000000003|       59|     22|\n",
      "|     12357| 6207.669999999996|      131|     33|\n",
      "|     12358|           1168.06|       19|      1|\n",
      "|     12359|           6372.58|      248|     57|\n",
      "|     12360|           2662.06|      129|     52|\n",
      "|     12361|189.89999999999998|       10|    287|\n",
      "|     12362|5226.2300000000005|      266|      3|\n",
      "|     12363|             552.0|       23|    109|\n",
      "|     12364|            1313.1|       85|      7|\n",
      "|     12365|            641.38|       22|    291|\n",
      "|     12367|             168.9|       11|      4|\n",
      "+----------+------------------+---------+-------+\n",
      "only showing top 20 rows\n",
      "\n"
     ]
    },
    {
     "data": {
      "text/plain": [
       "4339"
      ]
     },
     "execution_count": 10,
     "metadata": {},
     "output_type": "execute_result"
    }
   ],
   "source": [
    "rfm_ds_final = rfm_ds_m.join(rfm_ds_f, 'CustomerID', 'inner') \\\n",
    "                      .join(rfm_ds_p, 'CustomerID', 'inner') \\\n",
    "                      .select('CustomerID', 'Amount', 'Frequency', rfm_ds_p['Diff'].alias('Recency')).orderBy(\"CustomerID\")\n",
    "\n",
    "rfm_ds_final.show()\n",
    "rfm_ds_final.count()"
   ]
  },
  {
   "cell_type": "code",
   "execution_count": 11,
   "id": "7a6ad4f4-38a5-4912-956f-a2ed06529a11",
   "metadata": {
    "tags": []
   },
   "outputs": [],
   "source": [
    "# Assuming 'rfm_ds_scaled' is your PySpark DataFrame\n",
    "# Convert PySpark DataFrame to Pandas DataFrame\n",
    "rfm_ds_final = rfm_ds_final.select(\"*\").toPandas()\n"
   ]
  },
  {
   "cell_type": "markdown",
   "id": "f24cef76-6274-44f9-b571-b7c3a629e049",
   "metadata": {
    "tags": []
   },
   "source": [
    "## Eliminating the Outliers"
   ]
  },
  {
   "cell_type": "code",
   "execution_count": 12,
   "id": "2e90f6fd-880b-4f98-a7bd-b7348ced1288",
   "metadata": {
    "tags": []
   },
   "outputs": [],
   "source": [
    "Q1 = rfm_ds_final.Amount.quantile(0.05)\n",
    "Q3 = rfm_ds_final.Amount.quantile(0.95)\n",
    "IQR = Q3 - Q1\n",
    "rfm_ds_final = rfm_ds_final[(rfm_ds_final.Amount >= Q1 - 1.5*IQR) & (rfm_ds_final.Amount <= Q3 + 1.5*IQR)]\n",
    "\n",
    "Q1 = rfm_ds_final.Recency.quantile(0.05)\n",
    "Q3 = rfm_ds_final.Recency.quantile(0.95)\n",
    "IQR = Q3 - Q1\n",
    "rfm_ds_final = rfm_ds_final[(rfm_ds_final.Recency >= Q1 - 1.5*IQR) & (rfm_ds_final.Recency <= Q3 + 1.5*IQR)]\n",
    "\n",
    "Q1 = rfm_ds_final.Frequency.quantile(0.05)\n",
    "Q3 = rfm_ds_final.Frequency.quantile(0.95)\n",
    "IQR = Q3 - Q1\n",
    "rfm_ds_final = rfm_ds_final[(rfm_ds_final.Frequency >= Q1 - 1.5*IQR) & (rfm_ds_final.Frequency <= Q3 + 1.5*IQR)]"
   ]
  },
  {
   "cell_type": "code",
   "execution_count": 27,
   "id": "4e1849d4-7aeb-4945-8d81-5dbbed54ad7c",
   "metadata": {
    "tags": []
   },
   "outputs": [
    {
     "name": "stdout",
     "output_type": "stream",
     "text": [
      "(4257, 5)\n"
     ]
    },
    {
     "data": {
      "text/html": [
       "<div>\n",
       "<style scoped>\n",
       "    .dataframe tbody tr th:only-of-type {\n",
       "        vertical-align: middle;\n",
       "    }\n",
       "\n",
       "    .dataframe tbody tr th {\n",
       "        vertical-align: top;\n",
       "    }\n",
       "\n",
       "    .dataframe thead th {\n",
       "        text-align: right;\n",
       "    }\n",
       "</style>\n",
       "<table border=\"1\" class=\"dataframe\">\n",
       "  <thead>\n",
       "    <tr style=\"text-align: right;\">\n",
       "      <th></th>\n",
       "      <th>CustomerID</th>\n",
       "      <th>Amount</th>\n",
       "      <th>Frequency</th>\n",
       "      <th>Recency</th>\n",
       "      <th>Cluster_Id</th>\n",
       "    </tr>\n",
       "  </thead>\n",
       "  <tbody>\n",
       "    <tr>\n",
       "      <th>1</th>\n",
       "      <td>12347</td>\n",
       "      <td>4310.00</td>\n",
       "      <td>182</td>\n",
       "      <td>2</td>\n",
       "      <td>0</td>\n",
       "    </tr>\n",
       "    <tr>\n",
       "      <th>2</th>\n",
       "      <td>12348</td>\n",
       "      <td>1797.24</td>\n",
       "      <td>31</td>\n",
       "      <td>75</td>\n",
       "      <td>1</td>\n",
       "    </tr>\n",
       "    <tr>\n",
       "      <th>3</th>\n",
       "      <td>12349</td>\n",
       "      <td>1757.55</td>\n",
       "      <td>73</td>\n",
       "      <td>18</td>\n",
       "      <td>1</td>\n",
       "    </tr>\n",
       "    <tr>\n",
       "      <th>4</th>\n",
       "      <td>12350</td>\n",
       "      <td>334.40</td>\n",
       "      <td>17</td>\n",
       "      <td>310</td>\n",
       "      <td>2</td>\n",
       "    </tr>\n",
       "    <tr>\n",
       "      <th>5</th>\n",
       "      <td>12352</td>\n",
       "      <td>2506.04</td>\n",
       "      <td>85</td>\n",
       "      <td>36</td>\n",
       "      <td>1</td>\n",
       "    </tr>\n",
       "    <tr>\n",
       "      <th>6</th>\n",
       "      <td>12353</td>\n",
       "      <td>89.00</td>\n",
       "      <td>4</td>\n",
       "      <td>204</td>\n",
       "      <td>2</td>\n",
       "    </tr>\n",
       "    <tr>\n",
       "      <th>7</th>\n",
       "      <td>12354</td>\n",
       "      <td>1079.40</td>\n",
       "      <td>58</td>\n",
       "      <td>232</td>\n",
       "      <td>2</td>\n",
       "    </tr>\n",
       "    <tr>\n",
       "      <th>8</th>\n",
       "      <td>12355</td>\n",
       "      <td>459.40</td>\n",
       "      <td>13</td>\n",
       "      <td>214</td>\n",
       "      <td>2</td>\n",
       "    </tr>\n",
       "    <tr>\n",
       "      <th>9</th>\n",
       "      <td>12356</td>\n",
       "      <td>2811.43</td>\n",
       "      <td>59</td>\n",
       "      <td>22</td>\n",
       "      <td>1</td>\n",
       "    </tr>\n",
       "    <tr>\n",
       "      <th>10</th>\n",
       "      <td>12357</td>\n",
       "      <td>6207.67</td>\n",
       "      <td>131</td>\n",
       "      <td>33</td>\n",
       "      <td>0</td>\n",
       "    </tr>\n",
       "    <tr>\n",
       "      <th>11</th>\n",
       "      <td>12358</td>\n",
       "      <td>1168.06</td>\n",
       "      <td>19</td>\n",
       "      <td>1</td>\n",
       "      <td>1</td>\n",
       "    </tr>\n",
       "    <tr>\n",
       "      <th>12</th>\n",
       "      <td>12359</td>\n",
       "      <td>6372.58</td>\n",
       "      <td>248</td>\n",
       "      <td>57</td>\n",
       "      <td>0</td>\n",
       "    </tr>\n",
       "    <tr>\n",
       "      <th>13</th>\n",
       "      <td>12360</td>\n",
       "      <td>2662.06</td>\n",
       "      <td>129</td>\n",
       "      <td>52</td>\n",
       "      <td>1</td>\n",
       "    </tr>\n",
       "    <tr>\n",
       "      <th>14</th>\n",
       "      <td>12361</td>\n",
       "      <td>189.90</td>\n",
       "      <td>10</td>\n",
       "      <td>287</td>\n",
       "      <td>2</td>\n",
       "    </tr>\n",
       "    <tr>\n",
       "      <th>15</th>\n",
       "      <td>12362</td>\n",
       "      <td>5226.23</td>\n",
       "      <td>266</td>\n",
       "      <td>3</td>\n",
       "      <td>0</td>\n",
       "    </tr>\n",
       "    <tr>\n",
       "      <th>16</th>\n",
       "      <td>12363</td>\n",
       "      <td>552.00</td>\n",
       "      <td>23</td>\n",
       "      <td>109</td>\n",
       "      <td>1</td>\n",
       "    </tr>\n",
       "    <tr>\n",
       "      <th>17</th>\n",
       "      <td>12364</td>\n",
       "      <td>1313.10</td>\n",
       "      <td>85</td>\n",
       "      <td>7</td>\n",
       "      <td>1</td>\n",
       "    </tr>\n",
       "    <tr>\n",
       "      <th>18</th>\n",
       "      <td>12365</td>\n",
       "      <td>641.38</td>\n",
       "      <td>22</td>\n",
       "      <td>291</td>\n",
       "      <td>2</td>\n",
       "    </tr>\n",
       "    <tr>\n",
       "      <th>19</th>\n",
       "      <td>12367</td>\n",
       "      <td>168.90</td>\n",
       "      <td>11</td>\n",
       "      <td>4</td>\n",
       "      <td>1</td>\n",
       "    </tr>\n",
       "    <tr>\n",
       "      <th>20</th>\n",
       "      <td>12370</td>\n",
       "      <td>3545.69</td>\n",
       "      <td>167</td>\n",
       "      <td>51</td>\n",
       "      <td>0</td>\n",
       "    </tr>\n",
       "  </tbody>\n",
       "</table>\n",
       "</div>"
      ],
      "text/plain": [
       "   CustomerID   Amount  Frequency  Recency  Cluster_Id\n",
       "1       12347  4310.00        182        2           0\n",
       "2       12348  1797.24         31       75           1\n",
       "3       12349  1757.55         73       18           1\n",
       "4       12350   334.40         17      310           2\n",
       "5       12352  2506.04         85       36           1\n",
       "6       12353    89.00          4      204           2\n",
       "7       12354  1079.40         58      232           2\n",
       "8       12355   459.40         13      214           2\n",
       "9       12356  2811.43         59       22           1\n",
       "10      12357  6207.67        131       33           0\n",
       "11      12358  1168.06         19        1           1\n",
       "12      12359  6372.58        248       57           0\n",
       "13      12360  2662.06        129       52           1\n",
       "14      12361   189.90         10      287           2\n",
       "15      12362  5226.23        266        3           0\n",
       "16      12363   552.00         23      109           1\n",
       "17      12364  1313.10         85        7           1\n",
       "18      12365   641.38         22      291           2\n",
       "19      12367   168.90         11        4           1\n",
       "20      12370  3545.69        167       51           0"
      ]
     },
     "execution_count": 27,
     "metadata": {},
     "output_type": "execute_result"
    }
   ],
   "source": [
    "print(rfm_ds_final.shape)\n",
    "rfm_ds_final.head(20)"
   ]
  },
  {
   "cell_type": "markdown",
   "id": "69b62288-1383-4720-8aad-67a8f97b566b",
   "metadata": {
    "tags": []
   },
   "source": [
    "## Scaling the metrics"
   ]
  },
  {
   "cell_type": "code",
   "execution_count": 23,
   "id": "b0ff6b4e-c7d2-4050-9940-ecb9b907c454",
   "metadata": {
    "tags": []
   },
   "outputs": [],
   "source": [
    "#scaling\n",
    "X = rfm_ds_final[['Amount', 'Frequency', 'Recency']]\n",
    "scaler = MinMaxScaler()\n",
    "rfm_ds_scaled = scaler.fit_transform(X)\n"
   ]
  },
  {
   "cell_type": "code",
   "execution_count": 25,
   "id": "99568369-be28-480e-805c-738b5ae4ae42",
   "metadata": {},
   "outputs": [
    {
     "data": {
      "text/html": [
       "<div>\n",
       "<style scoped>\n",
       "    .dataframe tbody tr th:only-of-type {\n",
       "        vertical-align: middle;\n",
       "    }\n",
       "\n",
       "    .dataframe tbody tr th {\n",
       "        vertical-align: top;\n",
       "    }\n",
       "\n",
       "    .dataframe thead th {\n",
       "        text-align: right;\n",
       "    }\n",
       "</style>\n",
       "<table border=\"1\" class=\"dataframe\">\n",
       "  <thead>\n",
       "    <tr style=\"text-align: right;\">\n",
       "      <th></th>\n",
       "      <th>Amount</th>\n",
       "      <th>Frequency</th>\n",
       "      <th>Recency</th>\n",
       "    </tr>\n",
       "  </thead>\n",
       "  <tbody>\n",
       "    <tr>\n",
       "      <th>0</th>\n",
       "      <td>0.299516</td>\n",
       "      <td>0.255289</td>\n",
       "      <td>0.994638</td>\n",
       "    </tr>\n",
       "    <tr>\n",
       "      <th>1</th>\n",
       "      <td>0.124896</td>\n",
       "      <td>0.042313</td>\n",
       "      <td>0.798928</td>\n",
       "    </tr>\n",
       "    <tr>\n",
       "      <th>2</th>\n",
       "      <td>0.122138</td>\n",
       "      <td>0.101551</td>\n",
       "      <td>0.951743</td>\n",
       "    </tr>\n",
       "    <tr>\n",
       "      <th>3</th>\n",
       "      <td>0.023239</td>\n",
       "      <td>0.022567</td>\n",
       "      <td>0.168901</td>\n",
       "    </tr>\n",
       "    <tr>\n",
       "      <th>4</th>\n",
       "      <td>0.174153</td>\n",
       "      <td>0.118477</td>\n",
       "      <td>0.903485</td>\n",
       "    </tr>\n",
       "  </tbody>\n",
       "</table>\n",
       "</div>"
      ],
      "text/plain": [
       "     Amount  Frequency   Recency\n",
       "0  0.299516   0.255289  0.994638\n",
       "1  0.124896   0.042313  0.798928\n",
       "2  0.122138   0.101551  0.951743\n",
       "3  0.023239   0.022567  0.168901\n",
       "4  0.174153   0.118477  0.903485"
      ]
     },
     "execution_count": 25,
     "metadata": {},
     "output_type": "execute_result"
    }
   ],
   "source": [
    "rfm_ds_scaled = pd.DataFrame(rfm_ds_scaled)\n",
    "rfm_ds_scaled.columns = ['Amount', 'Frequency', 'Recency']\n",
    "rfm_ds_scaled['Recency'] = 1-rfm_ds_scaled['Recency']\n",
    "rfm_ds_scaled.head()"
   ]
  },
  {
   "cell_type": "markdown",
   "id": "91fe573b-9465-424a-9fde-7262a5841344",
   "metadata": {
    "tags": []
   },
   "source": [
    "## Using the K-Means clustering"
   ]
  },
  {
   "cell_type": "code",
   "execution_count": 28,
   "id": "64012c1c-e3e7-475a-93f4-f695d8a506b8",
   "metadata": {
    "tags": []
   },
   "outputs": [
    {
     "name": "stdout",
     "output_type": "stream",
     "text": [
      "[2 0 0 ... 1 0 0]\n"
     ]
    },
    {
     "name": "stderr",
     "output_type": "stream",
     "text": [
      "C:\\Users\\s554041\\AppData\\Local\\Programs\\Python\\Python311\\Lib\\site-packages\\sklearn\\cluster\\_kmeans.py:1416: FutureWarning: The default value of `n_init` will change from 10 to 'auto' in 1.4. Set the value of `n_init` explicitly to suppress the warning\n",
      "  super()._check_params_vs_input(X, default_n_init=10)\n"
     ]
    }
   ],
   "source": [
    "#model creation\n",
    "kmeans = KMeans(n_clusters=3, max_iter=50)\n",
    "kmeans.fit(rfm_ds_scaled)\n",
    "lbs = kmeans.labels_\n",
    "print(kmeans.labels_)"
   ]
  },
  {
   "cell_type": "code",
   "execution_count": 29,
   "id": "1f67d381-70d8-4af3-b1ae-0325b808efac",
   "metadata": {
    "tags": []
   },
   "outputs": [
    {
     "data": {
      "text/html": [
       "<div>\n",
       "<style scoped>\n",
       "    .dataframe tbody tr th:only-of-type {\n",
       "        vertical-align: middle;\n",
       "    }\n",
       "\n",
       "    .dataframe tbody tr th {\n",
       "        vertical-align: top;\n",
       "    }\n",
       "\n",
       "    .dataframe thead th {\n",
       "        text-align: right;\n",
       "    }\n",
       "</style>\n",
       "<table border=\"1\" class=\"dataframe\">\n",
       "  <thead>\n",
       "    <tr style=\"text-align: right;\">\n",
       "      <th></th>\n",
       "      <th>CustomerID</th>\n",
       "      <th>Amount</th>\n",
       "      <th>Frequency</th>\n",
       "      <th>Recency</th>\n",
       "      <th>Cluster_Id</th>\n",
       "    </tr>\n",
       "  </thead>\n",
       "  <tbody>\n",
       "    <tr>\n",
       "      <th>1</th>\n",
       "      <td>12347</td>\n",
       "      <td>4310.00</td>\n",
       "      <td>182</td>\n",
       "      <td>2</td>\n",
       "      <td>2</td>\n",
       "    </tr>\n",
       "    <tr>\n",
       "      <th>2</th>\n",
       "      <td>12348</td>\n",
       "      <td>1797.24</td>\n",
       "      <td>31</td>\n",
       "      <td>75</td>\n",
       "      <td>0</td>\n",
       "    </tr>\n",
       "    <tr>\n",
       "      <th>3</th>\n",
       "      <td>12349</td>\n",
       "      <td>1757.55</td>\n",
       "      <td>73</td>\n",
       "      <td>18</td>\n",
       "      <td>0</td>\n",
       "    </tr>\n",
       "    <tr>\n",
       "      <th>4</th>\n",
       "      <td>12350</td>\n",
       "      <td>334.40</td>\n",
       "      <td>17</td>\n",
       "      <td>310</td>\n",
       "      <td>1</td>\n",
       "    </tr>\n",
       "    <tr>\n",
       "      <th>5</th>\n",
       "      <td>12352</td>\n",
       "      <td>2506.04</td>\n",
       "      <td>85</td>\n",
       "      <td>36</td>\n",
       "      <td>0</td>\n",
       "    </tr>\n",
       "  </tbody>\n",
       "</table>\n",
       "</div>"
      ],
      "text/plain": [
       "  CustomerID   Amount  Frequency  Recency  Cluster_Id\n",
       "1      12347  4310.00        182        2           2\n",
       "2      12348  1797.24         31       75           0\n",
       "3      12349  1757.55         73       18           0\n",
       "4      12350   334.40         17      310           1\n",
       "5      12352  2506.04         85       36           0"
      ]
     },
     "execution_count": 29,
     "metadata": {},
     "output_type": "execute_result"
    }
   ],
   "source": [
    "rfm_ds_final['Cluster_Id'] = lbs\n",
    "rfm_ds_final.head()\n",
    "rfm_ds_scaled['Cluster_Id'] = lbs\n",
    "rfm_ds_final.head()"
   ]
  },
  {
   "cell_type": "markdown",
   "id": "6976655b-de38-451e-84e4-cdf5f6451676",
   "metadata": {
    "tags": []
   },
   "source": [
    "## Writing Data to csv files"
   ]
  },
  {
   "cell_type": "code",
   "execution_count": 30,
   "id": "f04f587d-41b9-4250-9cce-07d9c0910cc1",
   "metadata": {
    "tags": []
   },
   "outputs": [],
   "source": [
    "rfm_ds_final.to_csv('RetailAnalysis.csv', index=False)"
   ]
  },
  {
   "cell_type": "code",
   "execution_count": 31,
   "id": "9c50a6f4-7699-4d52-9123-49e64425d01e",
   "metadata": {
    "tags": []
   },
   "outputs": [],
   "source": [
    "rfm_ds_scaled['Cluster_Id'] = lbs\n",
    "rfm_ds_scaled['CustomerID'] = rfm_ds_final['CustomerID']\n",
    "rfm_ds_scaled.head()\n",
    "rfm_ds_scaled.to_csv('RetailAnalysisScaled.csv', index=False)"
   ]
  },
  {
   "cell_type": "code",
   "execution_count": null,
   "id": "749c640b-a25a-4771-a9b1-71c7a238ca25",
   "metadata": {},
   "outputs": [],
   "source": []
  }
 ],
 "metadata": {
  "kernelspec": {
   "display_name": "Python 3 (ipykernel)",
   "language": "python",
   "name": "python3"
  },
  "language_info": {
   "codemirror_mode": {
    "name": "ipython",
    "version": 3
   },
   "file_extension": ".py",
   "mimetype": "text/x-python",
   "name": "python",
   "nbconvert_exporter": "python",
   "pygments_lexer": "ipython3",
   "version": "3.11.3"
  }
 },
 "nbformat": 4,
 "nbformat_minor": 5
}
